{
 "cells": [
  {
   "cell_type": "markdown",
   "metadata": {},
   "source": [
    "## Playing around with code\n",
    "## Basic tests with ThreadPoolExecutor\n",
    "### Two executors"
   ]
  },
  {
   "cell_type": "code",
   "execution_count": 1,
   "metadata": {},
   "outputs": [
    {
     "name": "stdout",
     "output_type": "stream",
     "text": [
      "5\n",
      "10\n"
     ]
    }
   ],
   "source": [
    "from concurrent.futures import ThreadPoolExecutor\n",
    "import time\n",
    "\n",
    "def fct_test_1():\n",
    "    time.sleep(5)\n",
    "    return 5\n",
    "\n",
    "def fct_test_2():\n",
    "    time.sleep(10)\n",
    "    return 10\n",
    "\n",
    "executor = ThreadPoolExecutor(max_workers=2)\n",
    "\n",
    "# submit soes not interrupt the function\n",
    "# a and b are Future objects\n",
    "a = executor.submit(fct_test_1)\n",
    "b = executor.submit(fct_test_2)\n",
    "\n",
    "# result() function waits function to return\n",
    "\n",
    "# In this scenario we get \"5\" after 5 seconds and \"10\" after 5 more seconds\n",
    "print(a.result())\n",
    "print(b.result())"
   ]
  },
  {
   "cell_type": "code",
   "execution_count": 2,
   "metadata": {},
   "outputs": [
    {
     "name": "stdout",
     "output_type": "stream",
     "text": [
      "10\n",
      "5\n"
     ]
    }
   ],
   "source": [
    "from concurrent.futures import ThreadPoolExecutor\n",
    "import time\n",
    "\n",
    "def fct_test_1():\n",
    "    time.sleep(5)\n",
    "    return 5\n",
    "\n",
    "def fct_test_2():\n",
    "    time.sleep(10)\n",
    "    return 10\n",
    "\n",
    "executor = ThreadPoolExecutor(max_workers=2)\n",
    "\n",
    "# submit soes not interrupt the function\n",
    "# a and b are Future objects\n",
    "a = executor.submit(fct_test_1)\n",
    "b = executor.submit(fct_test_2)\n",
    "\n",
    "# result() function waits function to return\n",
    "\n",
    "# In this scenario we get \"10\" and \"5\" after 10 seconds\n",
    "print(b.result())\n",
    "print(a.result())"
   ]
  },
  {
   "cell_type": "code",
   "execution_count": 3,
   "metadata": {},
   "outputs": [
    {
     "name": "stdout",
     "output_type": "stream",
     "text": [
      "ex a\n",
      "ex b\n",
      "ex c\n",
      "5\n",
      "result a\n",
      "5\n",
      "result b\n",
      "5\n",
      "result c\n"
     ]
    }
   ],
   "source": [
    "from concurrent.futures import ThreadPoolExecutor\n",
    "import time\n",
    "\n",
    "def fct_test_1():\n",
    "    time.sleep(5)\n",
    "    return 5\n",
    "\n",
    "def fct_test_2():\n",
    "    time.sleep(10)\n",
    "    return 10\n",
    "\n",
    "\n",
    "executor = ThreadPoolExecutor(max_workers=2)\n",
    "\n",
    "# submit does not interrupt the function even when max_worker < submits\n",
    "# a and b are Future objects\n",
    "# calling three submit with 2 max_workers\n",
    "a = executor.submit(fct_test_1)\n",
    "print('ex a')\n",
    "b = executor.submit(fct_test_1)\n",
    "print('ex b')\n",
    "c = executor.submit(fct_test_1)\n",
    "print('ex c')\n",
    "# result() function waits function to return\n",
    "\n",
    "# executes creates a line of functions when called submit\n",
    "# In this scenario we get \"5\" and \"5\" after 5 seconds. Then, after 5 more seconds, \"5\"\n",
    "print(a.result())\n",
    "print('result a')\n",
    "print(b.result())\n",
    "print('result b')\n",
    "print(c.result())\n",
    "print('result c')"
   ]
  },
  {
   "cell_type": "code",
   "execution_count": 4,
   "metadata": {},
   "outputs": [
    {
     "name": "stdout",
     "output_type": "stream",
     "text": [
      "ex a\n",
      "ex b\n",
      "ex c\n",
      "5\n",
      "result a\n",
      "5\n",
      "result b\n",
      "5\n",
      "result c\n"
     ]
    }
   ],
   "source": [
    "from concurrent.futures import ThreadPoolExecutor\n",
    "import time\n",
    "\n",
    "def fct_test_1():\n",
    "    time.sleep(5)\n",
    "    return 5\n",
    "\n",
    "def fct_test_2():\n",
    "    time.sleep(10)\n",
    "    return 10\n",
    "\n",
    "# You can avoid having to call this method explicitly if you use the with statement, \n",
    "# which will shutdown the Executor (waiting as if Executor.shutdown() were called with wait set to True):\n",
    "#\n",
    "with ThreadPoolExecutor(max_workers=2) as executor:\n",
    "    # submit does not interrupt the function even when max_worker < submits\n",
    "    # a and b are Future objects\n",
    "    # calling three submit with 2 max_workers\n",
    "    a = executor.submit(fct_test_1)\n",
    "    print('ex a')\n",
    "    b = executor.submit(fct_test_1)\n",
    "    print('ex b')\n",
    "    c = executor.submit(fct_test_1)\n",
    "    print('ex c')\n",
    "    # result() function waits function to return\n",
    "\n",
    "    # executor creates a line of functions when called submit\n",
    "    # In this scenario we get \"5\" and \"5\" after 5 seconds. Then, after 5 more seconds, \"5\"\n",
    "    print(a.result())\n",
    "    print('result a')\n",
    "    print(b.result())\n",
    "    print('result b')\n",
    "    print(c.result())\n",
    "    print('result c')"
   ]
  },
  {
   "cell_type": "code",
   "execution_count": null,
   "metadata": {},
   "outputs": [],
   "source": []
  }
 ],
 "metadata": {
  "kernelspec": {
   "display_name": "Python 3.6.9 64-bit",
   "language": "python",
   "name": "python369jvsc74a57bd031f2aee4e71d21fbe5cf8b01ff0e069b9275f58929596ceb00d14d90e3e16cd6"
  },
  "language_info": {
   "codemirror_mode": {
    "name": "ipython",
    "version": 3
   },
   "file_extension": ".py",
   "mimetype": "text/x-python",
   "name": "python",
   "nbconvert_exporter": "python",
   "pygments_lexer": "ipython3",
   "version": "3.6.9"
  }
 },
 "nbformat": 4,
 "nbformat_minor": 4
}
