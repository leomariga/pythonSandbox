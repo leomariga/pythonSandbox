{
 "cells": [
  {
   "cell_type": "markdown",
   "metadata": {},
   "source": [
    "# Testing abstract class"
   ]
  },
  {
   "cell_type": "code",
   "execution_count": 1,
   "metadata": {},
   "outputs": [
    {
     "name": "stdout",
     "output_type": "stream",
     "text": [
      "20\n",
      "12\n"
     ]
    }
   ],
   "source": [
    "## Playing around with code\n",
    "## Basic tests with types and abstractclass\n",
    "\n",
    "import numpy as np\n",
    "from random import Random\n",
    "from typing import List, Tuple\n",
    "from abc import ABC, abstractmethod\n",
    "\n",
    "\n",
    "class BaseTestClass(ABC):\n",
    "    def __init__(self, operation: str ='multiply'):\n",
    "        self.operation = operation\n",
    "\n",
    "    def mtp(self, a: float = 2, b: float = 5) -> float:\n",
    "        if self.operation == 'multiply':\n",
    "            c = a*b\n",
    "        else:\n",
    "            c = a/b\n",
    "        return c\n",
    "\n",
    "\n",
    "    @abstractmethod\n",
    "    def outra_funcao(self, a: float = 2, b: float = 5) -> float:\n",
    "        pass\n",
    "\n",
    "\n",
    "class TwoOperations(BaseTestClass):\n",
    "    def outra_funcao(self, a: float = 2, b: float = 5) -> float:\n",
    "        return a + b\n",
    "\n",
    "mclass = TwoOperations('multiply')\n",
    "res = mclass.mtp(10,2)\n",
    "print(res)\n",
    "res = mclass.outra_funcao(10,2)\n",
    "print(res)"
   ]
  },
  {
   "cell_type": "code",
   "execution_count": null,
   "metadata": {},
   "outputs": [],
   "source": []
  }
 ],
 "metadata": {
  "kernelspec": {
   "display_name": "Python 3.6.9 64-bit",
   "language": "python",
   "name": "python369jvsc74a57bd031f2aee4e71d21fbe5cf8b01ff0e069b9275f58929596ceb00d14d90e3e16cd6"
  },
  "language_info": {
   "codemirror_mode": {
    "name": "ipython",
    "version": 3
   },
   "file_extension": ".py",
   "mimetype": "text/x-python",
   "name": "python",
   "nbconvert_exporter": "python",
   "pygments_lexer": "ipython3",
   "version": "3.6.9"
  }
 },
 "nbformat": 4,
 "nbformat_minor": 4
}
